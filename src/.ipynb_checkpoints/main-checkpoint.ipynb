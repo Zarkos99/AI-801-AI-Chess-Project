{
 "cells": [
  {
   "cell_type": "code",
   "execution_count": null,
   "id": "a0c06d17-4b62-4b53-8666-0f54b9f617c8",
   "metadata": {
    "editable": true,
    "slideshow": {
     "slide_type": ""
    },
    "tags": []
   },
   "outputs": [],
   "source": [
    "\"\"\"Module providing the project entry point.\"\"\"\n",
    "\n",
    "from agent import Agent\n",
    "from environment import Environment\n",
    "\n",
    "PUZZLE_PATH = \"puzzles\\\\12-7-2016-variation-from-the-danish-gambit.txt\"\n",
    "\n",
    "def main():\n",
    "    \"\"\"Function called as the project entry point.\"\"\"\n",
    "\n",
    "    environment = Environment(PUZZLE_PATH)\n",
    "    agent = Agent()\n",
    "    run = True\n",
    "\n",
    "    while run:\n",
    "        run = environment()\n",
    "\n",
    "        if run:\n",
    "            agent(environment)\n",
    "\n",
    "if __name__ == '__main__':\n",
    "    main()\n"
   ]
  },
  {
   "cell_type": "code",
   "execution_count": null,
   "id": "0b987cb8-4b2b-4818-b3f0-d0b97b7cfaf5",
   "metadata": {},
   "outputs": [],
   "source": []
  }
 ],
 "metadata": {
  "kernelspec": {
   "display_name": "Python 3 (ipykernel)",
   "language": "python",
   "name": "python3"
  },
  "language_info": {
   "codemirror_mode": {
    "name": "ipython",
    "version": 3
   },
   "file_extension": ".py",
   "mimetype": "text/x-python",
   "name": "python",
   "nbconvert_exporter": "python",
   "pygments_lexer": "ipython3",
   "version": "3.12.4"
  }
 },
 "nbformat": 4,
 "nbformat_minor": 5
}
